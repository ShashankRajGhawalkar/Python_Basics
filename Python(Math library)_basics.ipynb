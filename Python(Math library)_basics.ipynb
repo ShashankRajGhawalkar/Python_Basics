{
 "cells": [
  {
   "cell_type": "markdown",
   "metadata": {
    "collapsed": false
   },
   "source": [
    "## Number-theoretic and representation functions¶"
   ]
  },
  {
   "cell_type": "code",
   "execution_count": 2,
   "metadata": {
    "collapsed": false
   },
   "outputs": [
   ],
   "source": [
    "import math as mt"
   ]
  },
  {
   "cell_type": "code",
   "execution_count": 3,
   "metadata": {
    "collapsed": false
   },
   "outputs": [
    {
     "name": "stdout",
     "output_type": "stream",
     "text": [
      "0.9999999999999999\n",
      "1.0\n"
     ]
    }
   ],
   "source": [
    "x = sum([.1, .1, .1, .1, .1, .1, .1, .1, .1, .1])\n",
    "print(x)\n",
    "x = mt.fsum([.1, .1, .1, .1, .1, .1, .1, .1, .1, .1])\n",
    "print(x)"
   ]
  },
  {
   "cell_type": "markdown",
   "metadata": {
    "collapsed": false
   },
   "source": [
    "#### 1) math.ceil(x) # Return the ceiling of x as a float, the smallest integer value greater than or equal to x."
   ]
  },
  {
   "cell_type": "code",
   "execution_count": 4,
   "metadata": {
    "collapsed": false
   },
   "outputs": [
    {
     "name": "stdout",
     "output_type": "stream",
     "text": [
      "1\n",
      "61\n"
     ]
    }
   ],
   "source": [
    "x = mt.ceil(0.1)\n",
    "y = mt.ceil(60.6999999999999999999999999999999999999999)\n",
    "print(x)\n",
    "print(y)"
   ]
  },
  {
   "cell_type": "markdown",
   "metadata": {
    "collapsed": false
   },
   "source": [
    "#### 2) math.floor(x) # Return the floor of x as a float, the largest integer value less than or equal to x."
   ]
  },
  {
   "cell_type": "code",
   "execution_count": 5,
   "metadata": {
    "collapsed": false
   },
   "outputs": [
    {
     "name": "stdout",
     "output_type": "stream",
     "text": [
      "0\n",
      "60\n"
     ]
    }
   ],
   "source": [
    "x = mt.floor(0.1)\n",
    "y = mt.floor(60.59999999999999999999999999999999999999999)\n",
    "print(x)\n",
    "print(y)"
   ]
  },
  {
   "cell_type": "markdown",
   "metadata": {
    "collapsed": false
   },
   "source": [
    "#### 3) math.copysign(x, y) # Return x with the sign of y. On a platform that supports signed zeros, copysign(1.0, -0.0) returns -1.0. it does not suppoer variables"
   ]
  },
  {
   "cell_type": "code",
   "execution_count": 6,
   "metadata": {
    "collapsed": false
   },
   "outputs": [
    {
     "name": "stdout",
     "output_type": "stream",
     "text": [
      "-6.0\n",
      "(6.0, 2)\n",
      "6.0\n"
     ]
    }
   ],
   "source": [
    "z = mt.copysign(6,-4)\n",
    "a = mt.copysign(-6,4),2\n",
    "b = mt.copysign(-6,4)\n",
    "print(z)\n",
    "print(a)\n",
    "print(b)"
   ]
  },
  {
   "cell_type": "markdown",
   "metadata": {
    "collapsed": false
   },
   "source": [
    "#### 4) math.fabs(x) Return the absolute value of x."
   ]
  },
  {
   "cell_type": "code",
   "execution_count": 7,
   "metadata": {
    "collapsed": false
   },
   "outputs": [
    {
     "name": "stdout",
     "output_type": "stream",
     "text": [
      "4.0\n",
      "4.0\n"
     ]
    }
   ],
   "source": [
    "z = mt.fabs(-4)\n",
    "a = mt.fabs(4.0)\n",
    "print(z)\n",
    "print(a)"
   ]
  },
  {
   "cell_type": "markdown",
   "metadata": {
    "collapsed": false
   },
   "source": [
    "#### 5) math.factorial(x) Return x factorial. Raises ValueError if x is not integral or is negative."
   ]
  },
  {
   "cell_type": "code",
   "execution_count": 8,
   "metadata": {
    "collapsed": false
   },
   "outputs": [
    {
     "name": "stdout",
     "output_type": "stream",
     "text": [
      "120\n"
     ]
    }
   ],
   "source": [
    "z = mt.factorial(5)\n",
    "print(z)"
   ]
  },
  {
   "cell_type": "markdown",
   "metadata": {
    "collapsed": false
   },
   "source": [
    "#### 6) math.factorial(x) # function fmod() is generally preferred when working with floats, while Python’s x % y is preferred when working with integers."
   ]
  },
  {
   "cell_type": "code",
   "execution_count": 9,
   "metadata": {
    "collapsed": false
   },
   "outputs": [
    {
     "name": "stdout",
     "output_type": "stream",
     "text": [
      "-1e-100\n",
      "1e+100\n",
      "-10.0\n",
      "10\n"
     ]
    }
   ],
   "source": [
    "a = mt.fmod(-1e-100, 1e100)\n",
    "c = mt.fmod(-10,20)\n",
    "b = (-1e-100 % 1e100)\n",
    "d = (-10 % 20)\n",
    "print(a)\n",
    "print(b)\n",
    "print(c)\n",
    "print(d)"
   ]
  },
  {
   "cell_type": "markdown",
   "metadata": {
    "collapsed": false
   },
   "source": [
    "#### 7) math.frexp(x) # Return the mantissa and exponent of x as the pair (m, e). m is a float and e is an integer such that x == m * 2**e exactly. If x is zero, returns (0.0, 0), otherwise 0.5 <= abs(m) < 1. This is used to “pick apart” the internal representation of a float in a portable way."
   ]
  },
  {
   "cell_type": "code",
   "execution_count": 10,
   "metadata": {
    "collapsed": false
   },
   "outputs": [
    {
     "name": "stdout",
     "output_type": "stream",
     "text": [
      "(0.0, 0)\n",
      "(0.9375, 4)\n",
      "(-0.75, 4)\n",
      "(-0.96, -3)\n"
     ]
    }
   ],
   "source": [
    "a = mt.frexp(0)\n",
    "b = mt.frexp(15)\n",
    "c = mt.frexp(-12)\n",
    "d = mt.frexp(-0.12)\n",
    "print(a)\n",
    "print(b)\n",
    "print(c)\n",
    "print(d)"
   ]
  },
  {
   "cell_type": "markdown",
   "metadata": {
    "collapsed": false
   },
   "source": [
    "#### 8) math.isnan(x) # Check if the float x is a NaN (not a number). For more information on NaNs, see the IEEE 754 standards."
   ]
  },
  {
   "cell_type": "code",
   "execution_count": 11,
   "metadata": {
    "collapsed": false
   },
   "outputs": [
    {
     "name": "stdout",
     "output_type": "stream",
     "text": [
      "False\n",
      "False\n"
     ]
    }
   ],
   "source": [
    "a = mt.isnan(int(0))\n",
    "b = mt.isnan(5.6)\n",
    "# c = mt.isnan(0)\n",
    "print(a)\n",
    "print(b)\n",
    "# print(c)"
   ]
  },
  {
   "cell_type": "markdown",
   "metadata": {
    "collapsed": false
   },
   "source": [
    "#### 9) math.ldexp(x, i) Return x * (2**i). This is essentially the inverse of function frexp()."
   ]
  },
  {
   "cell_type": "code",
   "execution_count": 14,
   "metadata": {
    "collapsed": false
   },
   "outputs": [
    {
     "name": "stdout",
     "output_type": "stream",
     "text": [
      "0.0\n",
      "15.0\n",
      "-12.0\n",
      "-0.12\n"
     ]
    }
   ],
   "source": [
    "a = mt.ldexp(0.0,0)\n",
    "b = mt.ldexp(0.9375, 4)\n",
    "c = mt.ldexp(-0.75, 4)\n",
    "d = mt.ldexp(-0.96, -3)\n",
    "print(a)\n",
    "print(b)\n",
    "print(c)\n",
    "print(d)"
   ]
  },
  {
   "cell_type": "markdown",
   "metadata": {
    "collapsed": false
   },
   "source": [
    "#### 10) math.modf(x) Return the fractional and integer parts of x. Both results carry the sign of x and are floats."
   ]
  },
  {
   "cell_type": "code",
   "execution_count": 15,
   "metadata": {
    "collapsed": false
   },
   "outputs": [
    {
     "name": "stdout",
     "output_type": "stream",
     "text": [
      "(-0.0, -4.0)\n",
      "(0.0, 4.0)\n"
     ]
    }
   ],
   "source": [
    "z = mt.modf(-4)\n",
    "a = mt.modf(4.0)\n",
    "print(z)\n",
    "print(a)"
   ]
  },
  {
   "cell_type": "markdown",
   "metadata": {
    "collapsed": false
   },
   "source": [
    "#### 11) math.trunc(x) Return the Real value x truncated to an Integral (usually a long integer). Uses the __trunc__ method."
   ]
  },
  {
   "cell_type": "code",
   "execution_count": 17,
   "metadata": {
    "collapsed": false
   },
   "outputs": [
    {
     "name": "stdout",
     "output_type": "stream",
     "text": [
      "-4\n",
      "4\n"
     ]
    }
   ],
   "source": [
    "z = mt.trunc(-4  )\n",
    "a = mt.trunc(4.0  )\n",
    "print(z)\n",
    "print(a)"
   ]
  },
  {
   "cell_type": "markdown",
   "metadata": {
    "collapsed": false
   },
   "source": [
    " ## Power and logarithmic functions"
   ]
  },
  {
   "cell_type": "markdown",
   "metadata": {
    "collapsed": false
   },
   "source": [
    "#### 12) math.exp(x) Return e**x."
   ]
  },
  {
   "cell_type": "code",
   "execution_count": 19,
   "metadata": {
    "collapsed": false
   },
   "outputs": [
    {
     "name": "stdout",
     "output_type": "stream",
     "text": [
      "0.01831563888873418\n",
      "54.598150033144236\n"
     ]
    }
   ],
   "source": [
    "z = mt.exp(-4)\n",
    "a = mt.exp(4.0)\n",
    "print(z)\n",
    "print(a)"
   ]
  },
  {
   "cell_type": "markdown",
   "metadata": {
    "collapsed": false
   },
   "source": [
    "#### 13) math.expm1(x) Return e**x - 1. For small floats x, the subtraction in exp(x) - 1 can result in a significant loss of precision; the expm1() function provides a way to compute this quantity to full precision:"
   ]
  },
  {
   "cell_type": "code",
   "execution_count": 21,
   "metadata": {
    "collapsed": false
   },
   "outputs": [
    {
     "name": "stdout",
     "output_type": "stream",
     "text": [
      "-0.9816843611112658\n",
      "53.598150033144236\n"
     ]
    }
   ],
   "source": [
    "z = mt.expm1(-4)\n",
    "a = mt.expm1(4.0)\n",
    "print(z)\n",
    "print(a)"
   ]
  },
  {
   "cell_type": "code",
   "execution_count": 0,
   "metadata": {
    "collapsed": false
   },
   "outputs": [
   ],
   "source": [
   ]
  },
  {
   "cell_type": "code",
   "execution_count": 0,
   "metadata": {
    "collapsed": false
   },
   "outputs": [
   ],
   "source": [
   ]
  },
  {
   "cell_type": "code",
   "execution_count": 0,
   "metadata": {
    "collapsed": false
   },
   "outputs": [
   ],
   "source": [
   ]
  }
 ],
 "metadata": {
  "kernelspec": {
   "display_name": "Python 3 (Anaconda 5)",
   "env": {
    "LD_LIBRARY_PATH": "/ext/anaconda5/lib",
    "PROJ_LIB": "/ext/anaconda-2019.03/share/proj",
    "PYTHONHOME": "/ext/anaconda5/lib/python3.5",
    "PYTHONPATH": "/ext/anaconda5/lib/python3.5:/ext/anaconda5/lib/python3.5/site-packages"
   },
   "language": "python",
   "metadata": {
    "cocalc": {
     "description": "Python/R distribution for data science",
     "priority": -1,
     "url": "https://www.anaconda.com/distribution/"
    }
   },
   "name": "anaconda5"
  },
  "language_info": {
   "codemirror_mode": {
    "name": "ipython",
    "version": 3
   },
   "file_extension": ".py",
   "mimetype": "text/x-python",
   "name": "python",
   "nbconvert_exporter": "python",
   "pygments_lexer": "ipython3",
   "version": "3.6.7"
  }
 },
 "nbformat": 4,
 "nbformat_minor": 0
}